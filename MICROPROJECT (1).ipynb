{
  "cells": [
    {
      "cell_type": "code",
      "execution_count": null,
      "metadata": {
        "id": "HPFSP98SgFVX"
      },
      "outputs": [],
      "source": [
        "import torch\n",
        "import torchvision\n",
        "import string\n",
        "import torch.nn as nn\n",
        "import matplotlib.pyplot as plt\n",
        "import torch.nn.functional as F\n",
        "import pandas as pd\n",
        "import numpy as np\n",
        "from torch.utils.data import random_split\n",
        "from torch.utils.data import DataLoader\n",
        "from torch.utils.data import TensorDataset"
      ]
    },
    {
      "cell_type": "code",
      "execution_count": null,
      "metadata": {
        "id": "Ym7FopA0gFVX"
      },
      "outputs": [],
      "source": [
        "\n",
        "batch_size = 256\n",
        "learning_rate = 1e-5\n",
        "\n",
        "input_size = 28*28\n",
        "num_classes = 26"
      ]
    },
    {
      "cell_type": "markdown",
      "metadata": {
        "id": "Alm886angFVY"
      },
      "source": [
        "Let's load the training and testing dataset"
      ]
    },
    {
      "cell_type": "code",
      "execution_count": null,
      "metadata": {
        "id": "zVGSfc5fgFVY"
      },
      "outputs": [],
      "source": [
        "import os\n",
        "dataset = pd.read_csv('/content/sign_mnist_train.csv')\n",
        "testdataset = pd.read_csv('/content/sign_mnist_test.csv')\n",
        "num_rows = dataset.shape[0]\n",
        "# To map each label number to its corresponding letter\n",
        "letters = dict(enumerate(string.ascii_uppercase))"
      ]
    },
    {
      "cell_type": "code",
      "source": [],
      "metadata": {
        "id": "8v3EuJD1FsSX"
      },
      "execution_count": null,
      "outputs": []
    },
    {
      "cell_type": "code",
      "execution_count": null,
      "metadata": {
        "id": "LtxePZTKgFVY",
        "outputId": "b1cd7edd-fc54-4372-c3ba-81f998f2eab2",
        "colab": {
          "base_uri": "https://localhost:8080/",
          "height": 255
        }
      },
      "outputs": [
        {
          "output_type": "execute_result",
          "data": {
            "text/plain": [
              "   label  pixel1  pixel2  pixel3  pixel4  pixel5  pixel6  pixel7  pixel8  \\\n",
              "0      3     107     118     127     134     139     143     146     150   \n",
              "1      6     155     157     156     156     156     157     156     158   \n",
              "2      2     187     188     188     187     187     186     187     188   \n",
              "3      2     211     211     212     212     211     210     211     210   \n",
              "4     13     164     167     170     172     176     179     180     184   \n",
              "\n",
              "   pixel9  ...  pixel775  pixel776  pixel777  pixel778  pixel779  pixel780  \\\n",
              "0     153  ...       207       207       207       207       206       206   \n",
              "1     158  ...        69       149       128        87        94       163   \n",
              "2     187  ...       202       201       200       199       198       199   \n",
              "3     210  ...       235       234       233       231       230       226   \n",
              "4     185  ...        92       105       105       108       133       163   \n",
              "\n",
              "   pixel781  pixel782  pixel783  pixel784  \n",
              "0       206       204       203       202  \n",
              "1       175       103       135       149  \n",
              "2       198       195       194       195  \n",
              "3       225       222       229       163  \n",
              "4       157       163       164       179  \n",
              "\n",
              "[5 rows x 785 columns]"
            ],
            "text/html": [
              "\n",
              "  <div id=\"df-4f214929-b0fc-4311-97a2-0da7c623d501\" class=\"colab-df-container\">\n",
              "    <div>\n",
              "<style scoped>\n",
              "    .dataframe tbody tr th:only-of-type {\n",
              "        vertical-align: middle;\n",
              "    }\n",
              "\n",
              "    .dataframe tbody tr th {\n",
              "        vertical-align: top;\n",
              "    }\n",
              "\n",
              "    .dataframe thead th {\n",
              "        text-align: right;\n",
              "    }\n",
              "</style>\n",
              "<table border=\"1\" class=\"dataframe\">\n",
              "  <thead>\n",
              "    <tr style=\"text-align: right;\">\n",
              "      <th></th>\n",
              "      <th>label</th>\n",
              "      <th>pixel1</th>\n",
              "      <th>pixel2</th>\n",
              "      <th>pixel3</th>\n",
              "      <th>pixel4</th>\n",
              "      <th>pixel5</th>\n",
              "      <th>pixel6</th>\n",
              "      <th>pixel7</th>\n",
              "      <th>pixel8</th>\n",
              "      <th>pixel9</th>\n",
              "      <th>...</th>\n",
              "      <th>pixel775</th>\n",
              "      <th>pixel776</th>\n",
              "      <th>pixel777</th>\n",
              "      <th>pixel778</th>\n",
              "      <th>pixel779</th>\n",
              "      <th>pixel780</th>\n",
              "      <th>pixel781</th>\n",
              "      <th>pixel782</th>\n",
              "      <th>pixel783</th>\n",
              "      <th>pixel784</th>\n",
              "    </tr>\n",
              "  </thead>\n",
              "  <tbody>\n",
              "    <tr>\n",
              "      <th>0</th>\n",
              "      <td>3</td>\n",
              "      <td>107</td>\n",
              "      <td>118</td>\n",
              "      <td>127</td>\n",
              "      <td>134</td>\n",
              "      <td>139</td>\n",
              "      <td>143</td>\n",
              "      <td>146</td>\n",
              "      <td>150</td>\n",
              "      <td>153</td>\n",
              "      <td>...</td>\n",
              "      <td>207</td>\n",
              "      <td>207</td>\n",
              "      <td>207</td>\n",
              "      <td>207</td>\n",
              "      <td>206</td>\n",
              "      <td>206</td>\n",
              "      <td>206</td>\n",
              "      <td>204</td>\n",
              "      <td>203</td>\n",
              "      <td>202</td>\n",
              "    </tr>\n",
              "    <tr>\n",
              "      <th>1</th>\n",
              "      <td>6</td>\n",
              "      <td>155</td>\n",
              "      <td>157</td>\n",
              "      <td>156</td>\n",
              "      <td>156</td>\n",
              "      <td>156</td>\n",
              "      <td>157</td>\n",
              "      <td>156</td>\n",
              "      <td>158</td>\n",
              "      <td>158</td>\n",
              "      <td>...</td>\n",
              "      <td>69</td>\n",
              "      <td>149</td>\n",
              "      <td>128</td>\n",
              "      <td>87</td>\n",
              "      <td>94</td>\n",
              "      <td>163</td>\n",
              "      <td>175</td>\n",
              "      <td>103</td>\n",
              "      <td>135</td>\n",
              "      <td>149</td>\n",
              "    </tr>\n",
              "    <tr>\n",
              "      <th>2</th>\n",
              "      <td>2</td>\n",
              "      <td>187</td>\n",
              "      <td>188</td>\n",
              "      <td>188</td>\n",
              "      <td>187</td>\n",
              "      <td>187</td>\n",
              "      <td>186</td>\n",
              "      <td>187</td>\n",
              "      <td>188</td>\n",
              "      <td>187</td>\n",
              "      <td>...</td>\n",
              "      <td>202</td>\n",
              "      <td>201</td>\n",
              "      <td>200</td>\n",
              "      <td>199</td>\n",
              "      <td>198</td>\n",
              "      <td>199</td>\n",
              "      <td>198</td>\n",
              "      <td>195</td>\n",
              "      <td>194</td>\n",
              "      <td>195</td>\n",
              "    </tr>\n",
              "    <tr>\n",
              "      <th>3</th>\n",
              "      <td>2</td>\n",
              "      <td>211</td>\n",
              "      <td>211</td>\n",
              "      <td>212</td>\n",
              "      <td>212</td>\n",
              "      <td>211</td>\n",
              "      <td>210</td>\n",
              "      <td>211</td>\n",
              "      <td>210</td>\n",
              "      <td>210</td>\n",
              "      <td>...</td>\n",
              "      <td>235</td>\n",
              "      <td>234</td>\n",
              "      <td>233</td>\n",
              "      <td>231</td>\n",
              "      <td>230</td>\n",
              "      <td>226</td>\n",
              "      <td>225</td>\n",
              "      <td>222</td>\n",
              "      <td>229</td>\n",
              "      <td>163</td>\n",
              "    </tr>\n",
              "    <tr>\n",
              "      <th>4</th>\n",
              "      <td>13</td>\n",
              "      <td>164</td>\n",
              "      <td>167</td>\n",
              "      <td>170</td>\n",
              "      <td>172</td>\n",
              "      <td>176</td>\n",
              "      <td>179</td>\n",
              "      <td>180</td>\n",
              "      <td>184</td>\n",
              "      <td>185</td>\n",
              "      <td>...</td>\n",
              "      <td>92</td>\n",
              "      <td>105</td>\n",
              "      <td>105</td>\n",
              "      <td>108</td>\n",
              "      <td>133</td>\n",
              "      <td>163</td>\n",
              "      <td>157</td>\n",
              "      <td>163</td>\n",
              "      <td>164</td>\n",
              "      <td>179</td>\n",
              "    </tr>\n",
              "  </tbody>\n",
              "</table>\n",
              "<p>5 rows × 785 columns</p>\n",
              "</div>\n",
              "    <div class=\"colab-df-buttons\">\n",
              "\n",
              "  <div class=\"colab-df-container\">\n",
              "    <button class=\"colab-df-convert\" onclick=\"convertToInteractive('df-4f214929-b0fc-4311-97a2-0da7c623d501')\"\n",
              "            title=\"Convert this dataframe to an interactive table.\"\n",
              "            style=\"display:none;\">\n",
              "\n",
              "  <svg xmlns=\"http://www.w3.org/2000/svg\" height=\"24px\" viewBox=\"0 -960 960 960\">\n",
              "    <path d=\"M120-120v-720h720v720H120Zm60-500h600v-160H180v160Zm220 220h160v-160H400v160Zm0 220h160v-160H400v160ZM180-400h160v-160H180v160Zm440 0h160v-160H620v160ZM180-180h160v-160H180v160Zm440 0h160v-160H620v160Z\"/>\n",
              "  </svg>\n",
              "    </button>\n",
              "\n",
              "  <style>\n",
              "    .colab-df-container {\n",
              "      display:flex;\n",
              "      gap: 12px;\n",
              "    }\n",
              "\n",
              "    .colab-df-convert {\n",
              "      background-color: #E8F0FE;\n",
              "      border: none;\n",
              "      border-radius: 50%;\n",
              "      cursor: pointer;\n",
              "      display: none;\n",
              "      fill: #1967D2;\n",
              "      height: 32px;\n",
              "      padding: 0 0 0 0;\n",
              "      width: 32px;\n",
              "    }\n",
              "\n",
              "    .colab-df-convert:hover {\n",
              "      background-color: #E2EBFA;\n",
              "      box-shadow: 0px 1px 2px rgba(60, 64, 67, 0.3), 0px 1px 3px 1px rgba(60, 64, 67, 0.15);\n",
              "      fill: #174EA6;\n",
              "    }\n",
              "\n",
              "    .colab-df-buttons div {\n",
              "      margin-bottom: 4px;\n",
              "    }\n",
              "\n",
              "    [theme=dark] .colab-df-convert {\n",
              "      background-color: #3B4455;\n",
              "      fill: #D2E3FC;\n",
              "    }\n",
              "\n",
              "    [theme=dark] .colab-df-convert:hover {\n",
              "      background-color: #434B5C;\n",
              "      box-shadow: 0px 1px 3px 1px rgba(0, 0, 0, 0.15);\n",
              "      filter: drop-shadow(0px 1px 2px rgba(0, 0, 0, 0.3));\n",
              "      fill: #FFFFFF;\n",
              "    }\n",
              "  </style>\n",
              "\n",
              "    <script>\n",
              "      const buttonEl =\n",
              "        document.querySelector('#df-4f214929-b0fc-4311-97a2-0da7c623d501 button.colab-df-convert');\n",
              "      buttonEl.style.display =\n",
              "        google.colab.kernel.accessAllowed ? 'block' : 'none';\n",
              "\n",
              "      async function convertToInteractive(key) {\n",
              "        const element = document.querySelector('#df-4f214929-b0fc-4311-97a2-0da7c623d501');\n",
              "        const dataTable =\n",
              "          await google.colab.kernel.invokeFunction('convertToInteractive',\n",
              "                                                    [key], {});\n",
              "        if (!dataTable) return;\n",
              "\n",
              "        const docLinkHtml = 'Like what you see? Visit the ' +\n",
              "          '<a target=\"_blank\" href=https://colab.research.google.com/notebooks/data_table.ipynb>data table notebook</a>'\n",
              "          + ' to learn more about interactive tables.';\n",
              "        element.innerHTML = '';\n",
              "        dataTable['output_type'] = 'display_data';\n",
              "        await google.colab.output.renderOutput(dataTable, element);\n",
              "        const docLink = document.createElement('div');\n",
              "        docLink.innerHTML = docLinkHtml;\n",
              "        element.appendChild(docLink);\n",
              "      }\n",
              "    </script>\n",
              "  </div>\n",
              "\n",
              "\n",
              "<div id=\"df-d4d1c2bf-8ba5-47a3-b2e7-a1e080f5ab5f\">\n",
              "  <button class=\"colab-df-quickchart\" onclick=\"quickchart('df-d4d1c2bf-8ba5-47a3-b2e7-a1e080f5ab5f')\"\n",
              "            title=\"Suggest charts\"\n",
              "            style=\"display:none;\">\n",
              "\n",
              "<svg xmlns=\"http://www.w3.org/2000/svg\" height=\"24px\"viewBox=\"0 0 24 24\"\n",
              "     width=\"24px\">\n",
              "    <g>\n",
              "        <path d=\"M19 3H5c-1.1 0-2 .9-2 2v14c0 1.1.9 2 2 2h14c1.1 0 2-.9 2-2V5c0-1.1-.9-2-2-2zM9 17H7v-7h2v7zm4 0h-2V7h2v10zm4 0h-2v-4h2v4z\"/>\n",
              "    </g>\n",
              "</svg>\n",
              "  </button>\n",
              "\n",
              "<style>\n",
              "  .colab-df-quickchart {\n",
              "      --bg-color: #E8F0FE;\n",
              "      --fill-color: #1967D2;\n",
              "      --hover-bg-color: #E2EBFA;\n",
              "      --hover-fill-color: #174EA6;\n",
              "      --disabled-fill-color: #AAA;\n",
              "      --disabled-bg-color: #DDD;\n",
              "  }\n",
              "\n",
              "  [theme=dark] .colab-df-quickchart {\n",
              "      --bg-color: #3B4455;\n",
              "      --fill-color: #D2E3FC;\n",
              "      --hover-bg-color: #434B5C;\n",
              "      --hover-fill-color: #FFFFFF;\n",
              "      --disabled-bg-color: #3B4455;\n",
              "      --disabled-fill-color: #666;\n",
              "  }\n",
              "\n",
              "  .colab-df-quickchart {\n",
              "    background-color: var(--bg-color);\n",
              "    border: none;\n",
              "    border-radius: 50%;\n",
              "    cursor: pointer;\n",
              "    display: none;\n",
              "    fill: var(--fill-color);\n",
              "    height: 32px;\n",
              "    padding: 0;\n",
              "    width: 32px;\n",
              "  }\n",
              "\n",
              "  .colab-df-quickchart:hover {\n",
              "    background-color: var(--hover-bg-color);\n",
              "    box-shadow: 0 1px 2px rgba(60, 64, 67, 0.3), 0 1px 3px 1px rgba(60, 64, 67, 0.15);\n",
              "    fill: var(--button-hover-fill-color);\n",
              "  }\n",
              "\n",
              "  .colab-df-quickchart-complete:disabled,\n",
              "  .colab-df-quickchart-complete:disabled:hover {\n",
              "    background-color: var(--disabled-bg-color);\n",
              "    fill: var(--disabled-fill-color);\n",
              "    box-shadow: none;\n",
              "  }\n",
              "\n",
              "  .colab-df-spinner {\n",
              "    border: 2px solid var(--fill-color);\n",
              "    border-color: transparent;\n",
              "    border-bottom-color: var(--fill-color);\n",
              "    animation:\n",
              "      spin 1s steps(1) infinite;\n",
              "  }\n",
              "\n",
              "  @keyframes spin {\n",
              "    0% {\n",
              "      border-color: transparent;\n",
              "      border-bottom-color: var(--fill-color);\n",
              "      border-left-color: var(--fill-color);\n",
              "    }\n",
              "    20% {\n",
              "      border-color: transparent;\n",
              "      border-left-color: var(--fill-color);\n",
              "      border-top-color: var(--fill-color);\n",
              "    }\n",
              "    30% {\n",
              "      border-color: transparent;\n",
              "      border-left-color: var(--fill-color);\n",
              "      border-top-color: var(--fill-color);\n",
              "      border-right-color: var(--fill-color);\n",
              "    }\n",
              "    40% {\n",
              "      border-color: transparent;\n",
              "      border-right-color: var(--fill-color);\n",
              "      border-top-color: var(--fill-color);\n",
              "    }\n",
              "    60% {\n",
              "      border-color: transparent;\n",
              "      border-right-color: var(--fill-color);\n",
              "    }\n",
              "    80% {\n",
              "      border-color: transparent;\n",
              "      border-right-color: var(--fill-color);\n",
              "      border-bottom-color: var(--fill-color);\n",
              "    }\n",
              "    90% {\n",
              "      border-color: transparent;\n",
              "      border-bottom-color: var(--fill-color);\n",
              "    }\n",
              "  }\n",
              "</style>\n",
              "\n",
              "  <script>\n",
              "    async function quickchart(key) {\n",
              "      const quickchartButtonEl =\n",
              "        document.querySelector('#' + key + ' button');\n",
              "      quickchartButtonEl.disabled = true;  // To prevent multiple clicks.\n",
              "      quickchartButtonEl.classList.add('colab-df-spinner');\n",
              "      try {\n",
              "        const charts = await google.colab.kernel.invokeFunction(\n",
              "            'suggestCharts', [key], {});\n",
              "      } catch (error) {\n",
              "        console.error('Error during call to suggestCharts:', error);\n",
              "      }\n",
              "      quickchartButtonEl.classList.remove('colab-df-spinner');\n",
              "      quickchartButtonEl.classList.add('colab-df-quickchart-complete');\n",
              "    }\n",
              "    (() => {\n",
              "      let quickchartButtonEl =\n",
              "        document.querySelector('#df-d4d1c2bf-8ba5-47a3-b2e7-a1e080f5ab5f button');\n",
              "      quickchartButtonEl.style.display =\n",
              "        google.colab.kernel.accessAllowed ? 'block' : 'none';\n",
              "    })();\n",
              "  </script>\n",
              "</div>\n",
              "\n",
              "    </div>\n",
              "  </div>\n"
            ],
            "application/vnd.google.colaboratory.intrinsic+json": {
              "type": "dataframe",
              "variable_name": "dataset"
            }
          },
          "metadata": {},
          "execution_count": 6
        }
      ],
      "source": [
        "dataset.head()"
      ]
    },
    {
      "cell_type": "code",
      "execution_count": null,
      "metadata": {
        "id": "rHjZFM4ngFVZ"
      },
      "outputs": [],
      "source": [
        "def dataframe_to_array(dataframe):\n",
        "    # Make a copy of the original dataframe\n",
        "    dataframe1 = dataframe.copy(deep=True)\n",
        "    # Extract input & outupts as numpy arrays\n",
        "    inputs_array = dataframe1.iloc[:, 1:].to_numpy()\n",
        "    targets_array = dataframe1['label'].to_numpy()\n",
        "    return inputs_array, targets_array"
      ]
    },
    {
      "cell_type": "code",
      "execution_count": null,
      "metadata": {
        "id": "p93_zsjsgFVZ"
      },
      "outputs": [],
      "source": [
        "inputs_array, targets_array = dataframe_to_array(dataset)\n",
        "testinputs_array, testtargets_array = dataframe_to_array(testdataset)"
      ]
    },
    {
      "cell_type": "code",
      "execution_count": null,
      "metadata": {
        "id": "EuNkx83YgFVZ",
        "outputId": "5676ccf7-b7ba-4300-961f-e45a4a5c014e",
        "colab": {
          "base_uri": "https://localhost:8080/",
          "height": 447
        }
      },
      "outputs": [
        {
          "output_type": "stream",
          "name": "stdout",
          "text": [
            "Letter:  D\n"
          ]
        },
        {
          "output_type": "display_data",
          "data": {
            "text/plain": [
              "<Figure size 640x480 with 1 Axes>"
            ],
            "image/png": "[encoded data removed]"
          },
          "metadata": {}
        }
      ],
      "source": [
        "pic1 = np.reshape(inputs_array[0], (28, 28))\n",
        "plt.imshow(pic1, cmap = \"gray\")\n",
        "print(\"Letter: \", letters[targets_array[0].item()])"
      ]
    },
    {
      "cell_type": "code",
      "execution_count": null,
      "metadata": {
        "id": "2X_2mIUagFVZ"
      },
      "outputs": [],
      "source": [
        "inputs = torch.from_numpy(inputs_array).float()\n",
        "targets = torch.from_numpy(targets_array).long()\n",
        "testinputs = torch.from_numpy(testinputs_array).float()\n",
        "testtargets = torch.from_numpy(testtargets_array).long()"
      ]
    },
    {
      "cell_type": "code",
      "execution_count": null,
      "metadata": {
        "id": "Pr6Uws6zgFVa"
      },
      "outputs": [],
      "source": [
        "# Training validation & test dataset\n",
        "dataset = TensorDataset(inputs, targets)\n",
        "testdataset = TensorDataset(testinputs, testtargets)\n",
        "\n",
        "# Let's use 15% of our training dataset to validate our model\n",
        "val_percent = 0.15\n",
        "val_size = int(num_rows * val_percent)\n",
        "train_size = num_rows - val_size\n",
        "train_ds, val_ds = random_split(dataset, [train_size, val_size])\n",
        "\n",
        "# Dataloaders\n",
        "train_loader = DataLoader(train_ds, batch_size, shuffle=True)\n",
        "val_loader = DataLoader(val_ds, batch_size*2)\n",
        "test_loader = DataLoader(testdataset, batch_size*2)"
      ]
    },
    {
      "cell_type": "code",
      "execution_count": null,
      "metadata": {
        "id": "dD6AKRArgFVa",
        "outputId": "4a837556-6511-4def-8187-d2af6860597c",
        "colab": {
          "base_uri": "https://localhost:8080/",
          "height": 447
        }
      },
      "outputs": [
        {
          "output_type": "stream",
          "name": "stdout",
          "text": [
            "Letter:  X\n"
          ]
        },
        {
          "output_type": "display_data",
          "data": {
            "text/plain": [
              "<Figure size 640x480 with 1 Axes>"
            ],
            "image/png": "[encoded data removed]"
          },
          "metadata": {}
        }
      ],
      "source": [
        "img, label = train_ds[0]\n",
        "plt.imshow(img.reshape((28,28)), cmap = 'gray')\n",
        "print(\"Letter: \", letters[label.item()])"
      ]
    },
    {
      "cell_type": "code",
      "execution_count": null,
      "metadata": {
        "id": "lQeJ8W5mgFVa"
      },
      "outputs": [],
      "source": [
        "class MnistModel(nn.Module):\n",
        "    def __init__(self):\n",
        "        super().__init__()\n",
        "        self.linear = nn.Linear(input_size, num_classes)\n",
        "\n",
        "    def forward(self, xb):\n",
        "        xb = xb.reshape(-1, 784)\n",
        "        out = self.linear(xb)\n",
        "        return out\n",
        "\n",
        "    def training_step(self, batch):\n",
        "        images, labels = batch\n",
        "        out = self(images)                  # Generate predictions\n",
        "        loss = F.cross_entropy(out, labels) # Calculate loss\n",
        "        return loss\n",
        "\n",
        "    def validation_step(self, batch):\n",
        "        images, labels = batch\n",
        "        out = self(images)                    # Generate predictions\n",
        "        loss = F.cross_entropy(out, labels)   # Calculate loss\n",
        "        acc = accuracy(out, labels)           # Calculate accuracy\n",
        "        return {'val_loss': loss.detach(), 'val_acc': acc.detach()}\n",
        "\n",
        "    def validation_epoch_end(self, outputs):\n",
        "        batch_losses = [x['val_loss'] for x in outputs]\n",
        "        epoch_loss = torch.stack(batch_losses).mean()   # Combine losses\n",
        "        batch_accs = [x['val_acc'] for x in outputs]\n",
        "        epoch_acc = torch.stack(batch_accs).mean()      # Combine accuracies\n",
        "        return {'val_loss': epoch_loss.item(), 'val_acc': epoch_acc.item()}\n",
        "\n",
        "    def epoch_end(self, epoch, result):\n",
        "        print(\"Epoch [{}], val_loss: {:.4f}, val_acc: {:.4f}\".format(epoch, result['val_loss'], result['val_acc']))\n",
        "\n",
        "model = MnistModel()"
      ]
    },
    {
      "cell_type": "code",
      "execution_count": null,
      "metadata": {
        "id": "-erSvpVwgFVa"
      },
      "outputs": [],
      "source": [
        "def accuracy(outputs, labels):\n",
        "    _, preds = torch.max(outputs, dim=1)\n",
        "    return torch.tensor(torch.sum(preds == labels).item() / len(preds))"
      ]
    },
    {
      "cell_type": "code",
      "execution_count": null,
      "metadata": {
        "id": "r-I4yhBugFVa"
      },
      "outputs": [],
      "source": [
        "def evaluate(model, val_loader):\n",
        "    outputs = [model.validation_step(batch) for batch in val_loader]\n",
        "    return model.validation_epoch_end(outputs)\n",
        "\n",
        "def fit(epochs, lr, model, train_loader, val_loader, opt_func=torch.optim.SGD):\n",
        "    history = []\n",
        "    optimizer = opt_func(model.parameters(), lr)\n",
        "    for epoch in range(epochs):\n",
        "        # Training Phase\n",
        "        for batch in train_loader:\n",
        "            loss = model.training_step(batch)\n",
        "            loss.backward()\n",
        "            optimizer.step()\n",
        "            optimizer.zero_grad()\n",
        "        # Validation phase\n",
        "        result = evaluate(model, val_loader)\n",
        "        model.epoch_end(epoch, result)\n",
        "        history.append(result)\n",
        "    return history"
      ]
    },
    {
      "cell_type": "code",
      "execution_count": null,
      "metadata": {
        "id": "zza089o9gFVb",
        "outputId": "eb8511e0-ff06-4eae-fa51-f9bb621d3b18",
        "colab": {
          "base_uri": "https://localhost:8080/"
        }
      },
      "outputs": [
        {
          "output_type": "execute_result",
          "data": {
            "text/plain": [
              "{'val_loss': 167.3600311279297, 'val_acc': 0.05896874517202377}"
            ]
          },
          "metadata": {},
          "execution_count": 17
        }
      ],
      "source": [
        "evaluate(model, val_loader)"
      ]
    },
    {
      "cell_type": "code",
      "execution_count": null,
      "metadata": {
        "id": "D0q5OvDVgFVb",
        "outputId": "5cee23dd-fb4a-4368-c64a-7d44ca18ee32",
        "colab": {
          "base_uri": "https://localhost:8080/"
        }
      },
      "outputs": [
        {
          "output_type": "stream",
          "name": "stdout",
          "text": [
            "Epoch [0], val_loss: nan, val_acc: 0.0377\n",
            "Epoch [1], val_loss: nan, val_acc: 0.0377\n",
            "Epoch [2], val_loss: nan, val_acc: 0.0377\n",
            "Epoch [3], val_loss: nan, val_acc: 0.0377\n",
            "Epoch [4], val_loss: nan, val_acc: 0.0377\n",
            "Epoch [5], val_loss: nan, val_acc: 0.0377\n",
            "Epoch [6], val_loss: nan, val_acc: 0.0377\n",
            "Epoch [7], val_loss: nan, val_acc: 0.0377\n",
            "Epoch [8], val_loss: nan, val_acc: 0.0377\n",
            "Epoch [9], val_loss: nan, val_acc: 0.0377\n",
            "Epoch [10], val_loss: nan, val_acc: 0.0377\n",
            "Epoch [11], val_loss: nan, val_acc: 0.0377\n",
            "Epoch [12], val_loss: nan, val_acc: 0.0377\n",
            "Epoch [13], val_loss: nan, val_acc: 0.0377\n",
            "Epoch [14], val_loss: nan, val_acc: 0.0377\n",
            "Epoch [15], val_loss: nan, val_acc: 0.0377\n",
            "Epoch [16], val_loss: nan, val_acc: 0.0377\n",
            "Epoch [17], val_loss: nan, val_acc: 0.0377\n",
            "Epoch [18], val_loss: nan, val_acc: 0.0377\n",
            "Epoch [19], val_loss: nan, val_acc: 0.0377\n",
            "Epoch [20], val_loss: nan, val_acc: 0.0377\n",
            "Epoch [21], val_loss: nan, val_acc: 0.0377\n",
            "Epoch [22], val_loss: nan, val_acc: 0.0377\n"
          ]
        }
      ],
      "source": [
        "history = fit(50, 1e-4, model, train_loader, val_loader)"
      ]
    },
    {
      "cell_type": "code",
      "execution_count": null,
      "metadata": {
        "id": "FksFPh2fgFVb",
        "outputId": "7411af21-8af2-4ca7-f453-88e3a1c416b0",
        "colab": {
          "base_uri": "https://localhost:8080/",
          "height": 472
        }
      },
      "outputs": [
        {
          "output_type": "display_data",
          "data": {
            "text/plain": [
              "<Figure size 640x480 with 1 Axes>"
            ],
            "image/png": "[encoded data removed]"
          },
          "metadata": {}
        }
      ],
      "source": [
        "# Visualizing how our model performed after each epoch\n",
        "accuracies = [r['val_acc'] for r in history]\n",
        "plt.plot(accuracies, '-x')\n",
        "plt.xlabel('epoch')\n",
        "plt.ylabel('accuracy')\n",
        "plt.title('Accuracy vs. No. of epochs');"
      ]
    },
    {
      "cell_type": "code",
      "execution_count": null,
      "metadata": {
        "id": "r_IDjiZMgFVb",
        "outputId": "88d7ca27-c0d4-4fae-b8bd-ec5dff478895",
        "colab": {
          "base_uri": "https://localhost:8080/"
        }
      },
      "outputs": [
        {
          "output_type": "execute_result",
          "data": {
            "text/plain": [
              "{'val_loss': 13.358087539672852, 'val_acc': 0.670703113079071}"
            ]
          },
          "metadata": {},
          "execution_count": 20
        }
      ],
      "source": [
        "# Evaluate on test dataset\n",
        "result = evaluate(model, test_loader)\n",
        "result"
      ]
    },
    {
      "cell_type": "code",
      "execution_count": null,
      "metadata": {
        "id": "T1s7nK3fgFVi"
      },
      "outputs": [],
      "source": [
        "model_2 = MnistModel()"
      ]
    },
    {
      "cell_type": "code",
      "execution_count": null,
      "metadata": {
        "id": "PVtIGL9ZgFVi",
        "outputId": "e4999699-5720-46e7-de81-2c7f0b2727f2",
        "colab": {
          "base_uri": "https://localhost:8080/"
        }
      },
      "outputs": [
        {
          "output_type": "execute_result",
          "data": {
            "text/plain": [
              "{'val_loss': 136.73118591308594, 'val_acc': 0.04519807547330856}"
            ]
          },
          "metadata": {},
          "execution_count": 22
        }
      ],
      "source": [
        "# Evaluating the model prior to training\n",
        "evaluate(model_2, val_loader)"
      ]
    },
    {
      "cell_type": "code",
      "execution_count": null,
      "metadata": {
        "id": "VcEqRjAdgFVj",
        "outputId": "fa859e15-568a-4805-8d41-24b511cf4fc6",
        "colab": {
          "base_uri": "https://localhost:8080/"
        }
      },
      "outputs": [
        {
          "output_type": "stream",
          "name": "stdout",
          "text": [
            "Epoch [0], val_loss: 34.2106, val_acc: 0.0647\n",
            "Epoch [1], val_loss: 30.3715, val_acc: 0.1030\n",
            "Epoch [2], val_loss: 21.2485, val_acc: 0.1512\n",
            "Epoch [3], val_loss: 17.9354, val_acc: 0.2232\n",
            "Epoch [4], val_loss: 17.1045, val_acc: 0.2409\n",
            "Epoch [5], val_loss: 16.3457, val_acc: 0.2602\n",
            "Epoch [6], val_loss: 13.3117, val_acc: 0.3029\n",
            "Epoch [7], val_loss: 13.1047, val_acc: 0.3093\n",
            "Epoch [8], val_loss: 11.2722, val_acc: 0.3127\n",
            "Epoch [9], val_loss: 12.0028, val_acc: 0.3219\n",
            "Epoch [10], val_loss: 10.8905, val_acc: 0.3704\n",
            "Epoch [11], val_loss: 10.9672, val_acc: 0.3456\n",
            "Epoch [12], val_loss: 11.0827, val_acc: 0.3425\n",
            "Epoch [13], val_loss: 8.9765, val_acc: 0.4044\n",
            "Epoch [14], val_loss: 9.2336, val_acc: 0.3801\n",
            "Epoch [15], val_loss: 8.4721, val_acc: 0.4007\n",
            "Epoch [16], val_loss: 8.1288, val_acc: 0.4129\n",
            "Epoch [17], val_loss: 8.6172, val_acc: 0.4437\n",
            "Epoch [18], val_loss: 7.7629, val_acc: 0.4559\n",
            "Epoch [19], val_loss: 7.5904, val_acc: 0.4543\n",
            "Epoch [20], val_loss: 5.5180, val_acc: 0.4986\n",
            "Epoch [21], val_loss: 6.2900, val_acc: 0.4530\n",
            "Epoch [22], val_loss: 5.3993, val_acc: 0.5172\n",
            "Epoch [23], val_loss: 6.9427, val_acc: 0.4927\n",
            "Epoch [24], val_loss: 5.2517, val_acc: 0.5285\n",
            "Epoch [25], val_loss: 4.7891, val_acc: 0.5361\n",
            "Epoch [26], val_loss: 6.7481, val_acc: 0.4495\n",
            "Epoch [27], val_loss: 4.9030, val_acc: 0.5281\n",
            "Epoch [28], val_loss: 4.2478, val_acc: 0.5710\n",
            "Epoch [29], val_loss: 4.9460, val_acc: 0.5327\n",
            "Epoch [30], val_loss: 5.5653, val_acc: 0.5389\n",
            "Epoch [31], val_loss: 3.6137, val_acc: 0.6209\n",
            "Epoch [32], val_loss: 4.0284, val_acc: 0.5669\n",
            "Epoch [33], val_loss: 3.8273, val_acc: 0.6016\n",
            "Epoch [34], val_loss: 4.5520, val_acc: 0.5908\n",
            "Epoch [35], val_loss: 4.0039, val_acc: 0.5899\n",
            "Epoch [36], val_loss: 4.2536, val_acc: 0.5750\n",
            "Epoch [37], val_loss: 3.5944, val_acc: 0.5933\n",
            "Epoch [38], val_loss: 3.6509, val_acc: 0.6050\n",
            "Epoch [39], val_loss: 3.3617, val_acc: 0.6234\n",
            "Epoch [40], val_loss: 5.0396, val_acc: 0.5358\n",
            "Epoch [41], val_loss: 2.9471, val_acc: 0.6438\n",
            "Epoch [42], val_loss: 3.7129, val_acc: 0.6235\n",
            "Epoch [43], val_loss: 5.3327, val_acc: 0.5981\n",
            "Epoch [44], val_loss: 2.8527, val_acc: 0.6429\n",
            "Epoch [45], val_loss: 3.3033, val_acc: 0.5977\n",
            "Epoch [46], val_loss: 3.1967, val_acc: 0.6636\n",
            "Epoch [47], val_loss: 3.1284, val_acc: 0.6545\n",
            "Epoch [48], val_loss: 1.9295, val_acc: 0.7086\n",
            "Epoch [49], val_loss: 3.1736, val_acc: 0.6330\n"
          ]
        }
      ],
      "source": [
        "history_2 = fit(50, 1e-5, model_2, train_loader, val_loader)"
      ]
    },
    {
      "cell_type": "code",
      "execution_count": null,
      "metadata": {
        "id": "JaJYgwXQgFVj",
        "outputId": "abccda46-a333-4348-d0ef-c6811e7eb150",
        "colab": {
          "base_uri": "https://localhost:8080/",
          "height": 472
        }
      },
      "outputs": [
        {
          "output_type": "display_data",
          "data": {
            "text/plain": [
              "<Figure size 640x480 with 1 Axes>"
            ],
            "image/png": "[encoded data removed]"
          },
          "metadata": {}
        }
      ],
      "source": [
        "# Visualizing how our model performed after each epoch\n",
        "accuracies_2 = [r['val_acc'] for r in history_2]\n",
        "plt.plot(accuracies_2, '-x')\n",
        "plt.xlabel('epoch')\n",
        "plt.ylabel('accuracy')\n",
        "plt.title('Accuracy vs. No. of epochs');"
      ]
    },
    {
      "cell_type": "code",
      "execution_count": null,
      "metadata": {
        "id": "H1upln3UgFVj",
        "outputId": "f2be0610-e3f5-4b79-8261-e14efbcb2222",
        "colab": {
          "base_uri": "https://localhost:8080/",
          "height": 141
        }
      },
      "outputs": [
        {
          "output_type": "error",
          "ename": "NameError",
          "evalue": "name 'fit' is not defined",
          "traceback": [
            "\u001b[0;31m---------------------------------------------------------------------------\u001b[0m",
            "\u001b[0;31mNameError\u001b[0m                                 Traceback (most recent call last)",
            "\u001b[0;32m<ipython-input-1-d3563d685622>\u001b[0m in \u001b[0;36m<cell line: 1>\u001b[0;34m()\u001b[0m\n\u001b[0;32m----> 1\u001b[0;31m \u001b[0mhistory_3\u001b[0m \u001b[0;34m=\u001b[0m \u001b[0mfit\u001b[0m\u001b[0;34m(\u001b[0m\u001b[0;36m50\u001b[0m\u001b[0;34m,\u001b[0m \u001b[0;36m1e-5\u001b[0m\u001b[0;34m,\u001b[0m \u001b[0mmodel_2\u001b[0m\u001b[0;34m,\u001b[0m \u001b[0mtrain_loader\u001b[0m\u001b[0;34m,\u001b[0m \u001b[0mval_loader\u001b[0m\u001b[0;34m)\u001b[0m\u001b[0;34m\u001b[0m\u001b[0;34m\u001b[0m\u001b[0m\n\u001b[0m",
            "\u001b[0;31mNameError\u001b[0m: name 'fit' is not defined"
          ]
        }
      ],
      "source": [
        "history_3 = fit(50, 1e-5, model_2, train_loader, val_loader)"
      ]
    },
    {
      "cell_type": "code",
      "execution_count": null,
      "metadata": {
        "id": "tQjREsccgFVj",
        "outputId": "93075484-d03b-48d2-eb44-0a95e06e1436",
        "colab": {
          "base_uri": "https://localhost:8080/",
          "height": 472
        }
      },
      "outputs": [
        {
          "output_type": "display_data",
          "data": {
            "text/plain": [
              "<Figure size 640x480 with 1 Axes>"
            ],
            "image/png": "[encoded data removed]"
          },
          "metadata": {}
        }
      ],
      "source": [
        "# Visualizing total performance of the model across 100 epoch\n",
        "accuracies_3 = [r['val_acc'] for r in history_3]\n",
        "accuracies_model2 = accuracies_2 + accuracies_3\n",
        "plt.plot(accuracies_model2, '-x')\n",
        "plt.xlabel('epoch')\n",
        "plt.ylabel('accuracy')\n",
        "plt.title('Accuracy vs. No. of epochs');"
      ]
    },
    {
      "cell_type": "code",
      "execution_count": null,
      "metadata": {
        "id": "tA6Wq0jWgFVj",
        "outputId": "0164f268-9157-4a46-f947-11a754435a78",
        "colab": {
          "base_uri": "https://localhost:8080/"
        }
      },
      "outputs": [
        {
          "output_type": "execute_result",
          "data": {
            "text/plain": [
              "{'val_loss': 6.07506799697876, 'val_acc': 0.5463541746139526}"
            ]
          },
          "metadata": {},
          "execution_count": 27
        }
      ],
      "source": [
        "# Evaluate on test dataset\n",
        "result_2 = evaluate(model_2, test_loader)\n",
        "result_2"
      ]
    },
    {
      "cell_type": "code",
      "execution_count": null,
      "metadata": {
        "id": "tTYXCF4agFVj"
      },
      "outputs": [],
      "source": [
        "def predict_image(img, model):\n",
        "    xb = img.unsqueeze(0)\n",
        "    yb = model(xb)\n",
        "    _, preds  = torch.max(yb, dim=1)\n",
        "    return preds[0].item()"
      ]
    },
    {
      "cell_type": "code",
      "execution_count": null,
      "metadata": {
        "id": "PnCJuJOMgFVj",
        "outputId": "c52afc8e-6081-4185-97f5-070f3e416935",
        "colab": {
          "base_uri": "https://localhost:8080/",
          "height": 447
        }
      },
      "outputs": [
        {
          "output_type": "stream",
          "name": "stdout",
          "text": [
            "Label: H , Predicted: H\n"
          ]
        },
        {
          "output_type": "display_data",
          "data": {
            "text/plain": [
              "<Figure size 640x480 with 1 Axes>"
            ],
            "image/png": "[encoded data removed]"
          },
          "metadata": {}
        }
      ],
      "source": [
        "img, label = testdataset[919]\n",
        "plt.imshow(img.reshape(28,28), cmap='gray')\n",
        "print('Label:', letters[label.item()], ', Predicted:', letters[predict_image(img, model_2)])"
      ]
    },
    {
      "cell_type": "code",
      "execution_count": null,
      "metadata": {
        "id": "_AcAUtC0gFVj",
        "outputId": "00f123ce-4f06-478f-bab5-c35829c532c1",
        "colab": {
          "base_uri": "https://localhost:8080/",
          "height": 447
        }
      },
      "outputs": [
        {
          "output_type": "stream",
          "name": "stdout",
          "text": [
            "Label: H , Predicted: H\n"
          ]
        },
        {
          "output_type": "display_data",
          "data": {
            "text/plain": [
              "<Figure size 640x480 with 1 Axes>"
            ],
            "image/png": "[encoded data removed]"
          },
          "metadata": {}
        }
      ],
      "source": [
        "img, label = testdataset[19]\n",
        "plt.imshow(img.reshape(28,28), cmap='gray')\n",
        "print('Label:', letters[label.item()], ', Predicted:', letters[predict_image(img, model_2)])"
      ]
    },
    {
      "cell_type": "code",
      "execution_count": null,
      "metadata": {
        "id": "w_Y-w6wlgFVk"
      },
      "outputs": [],
      "source": [
        "# Here the model parameters are saved so that we dont have to train the model next time\n",
        "torch.save(model_2.state_dict(), 'mnist-logistic.pth')"
      ]
    },
    {
      "cell_type": "code",
      "execution_count": null,
      "metadata": {
        "id": "lsQATGpggFVk",
        "outputId": "ae8f6de2-f09b-4e5a-c7af-5980d896b054",
        "colab": {
          "base_uri": "https://localhost:8080/"
        }
      },
      "outputs": [
        {
          "output_type": "execute_result",
          "data": {
            "text/plain": [
              "OrderedDict([('linear.weight',\n",
              "              tensor([[-0.0240,  0.0300, -0.0241,  ...,  0.0305,  0.0084,  0.0169],\n",
              "                      [ 0.0292, -0.0224,  0.0213,  ...,  0.0163,  0.0182, -0.0221],\n",
              "                      [ 0.0208,  0.0135,  0.0022,  ...,  0.0256,  0.0067,  0.0235],\n",
              "                      ...,\n",
              "                      [-0.0225, -0.0001, -0.0187,  ..., -0.0074,  0.0165,  0.0044],\n",
              "                      [ 0.0020, -0.0117, -0.0293,  ...,  0.0065, -0.0170,  0.0202],\n",
              "                      [-0.0357, -0.0287, -0.0272,  ..., -0.0332,  0.0141,  0.0133]])),\n",
              "             ('linear.bias',\n",
              "              tensor([ 0.0279, -0.0096,  0.0236,  0.0202,  0.0165,  0.0007, -0.0170,  0.0072,\n",
              "                       0.0340,  0.0248, -0.0117, -0.0034, -0.0095, -0.0198,  0.0221,  0.0160,\n",
              "                      -0.0350,  0.0281, -0.0002,  0.0185, -0.0165,  0.0301,  0.0176,  0.0278,\n",
              "                      -0.0315,  0.0196]))])"
            ]
          },
          "metadata": {},
          "execution_count": 36
        }
      ],
      "source": [
        "# Let's look at the model parameters\n",
        "model_2.state_dict()"
      ]
    },
    {
      "cell_type": "code",
      "execution_count": null,
      "metadata": {
        "id": "WPbvA5jOgFVk",
        "outputId": "34b161ac-071e-44c2-e6b0-ee0d64f0f2c7",
        "colab": {
          "base_uri": "https://localhost:8080/"
        }
      },
      "outputs": [
        {
          "output_type": "execute_result",
          "data": {
            "text/plain": [
              "OrderedDict([('linear.weight',\n",
              "              tensor([[-0.0240,  0.0300, -0.0241,  ...,  0.0305,  0.0084,  0.0169],\n",
              "                      [ 0.0292, -0.0224,  0.0213,  ...,  0.0163,  0.0182, -0.0221],\n",
              "                      [ 0.0208,  0.0135,  0.0022,  ...,  0.0256,  0.0067,  0.0235],\n",
              "                      ...,\n",
              "                      [-0.0225, -0.0001, -0.0187,  ..., -0.0074,  0.0165,  0.0044],\n",
              "                      [ 0.0020, -0.0117, -0.0293,  ...,  0.0065, -0.0170,  0.0202],\n",
              "                      [-0.0357, -0.0287, -0.0272,  ..., -0.0332,  0.0141,  0.0133]])),\n",
              "             ('linear.bias',\n",
              "              tensor([ 0.0279, -0.0096,  0.0236,  0.0202,  0.0165,  0.0007, -0.0170,  0.0072,\n",
              "                       0.0340,  0.0248, -0.0117, -0.0034, -0.0095, -0.0198,  0.0221,  0.0160,\n",
              "                      -0.0350,  0.0281, -0.0002,  0.0185, -0.0165,  0.0301,  0.0176,  0.0278,\n",
              "                      -0.0315,  0.0196]))])"
            ]
          },
          "metadata": {},
          "execution_count": 37
        }
      ],
      "source": [
        "# To verify we can load these parameters in a new model\n",
        "model_3 = MnistModel()\n",
        "model_3.load_state_dict(torch.load('mnist-logistic.pth'))\n",
        "model_3.state_dict()"
      ]
    }
  ],
  "metadata": {
    "kernelspec": {
      "display_name": "Python 3",
      "language": "python",
      "name": "python3"
    },
    "language_info": {
      "codemirror_mode": {
        "name": "ipython",
        "version": 3
      },
      "file_extension": ".py",
      "mimetype": "text/x-python",
      "name": "python",
      "nbconvert_exporter": "python",
      "pygments_lexer": "ipython3",
      "version": "3.6.4"
    },
    "colab": {
      "provenance": []
    }
  },
  "nbformat": 4,
  "nbformat_minor": 0
}